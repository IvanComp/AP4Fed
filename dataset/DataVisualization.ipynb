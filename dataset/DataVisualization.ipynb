{
 "cells": [
  {
   "cell_type": "code",
   "execution_count": 2,
   "id": "7d0aecf2-ae12-4c3d-a5f9-6dc93fb32d52",
   "metadata": {},
   "outputs": [
    {
     "name": "stdout",
     "output_type": "stream",
     "text": [
      "Numero di immagini nella cartella 'rgb': 2000\n",
      "Numero di file .npy nella cartella 'labels': 2000\n",
      "\n",
      "Dettagli della prima immagine:\n",
      "Formato: PNG\n",
      "Dimensioni: (32, 32)\n",
      "Modalità: RGB\n"
     ]
    },
    {
     "data": {
      "image/png": "[encoded data removed]",
      "text/plain": [
       "<Figure size 500x500 with 1 Axes>"
      ]
     },
     "metadata": {},
     "output_type": "display_data"
    },
    {
     "name": "stdout",
     "output_type": "stream",
     "text": [
      "\n",
      "Dettagli del primo file di label:\n",
      "Shape: (32, 32)\n",
      "Tipo di dato: uint8\n",
      "Valori unici: [0 1 4]\n",
      "\n",
      "Distribuzione delle etichette nel dataset:\n",
      "Etichetta 0: 1542709 occorrenze\n",
      "Etichetta 1: 103376 occorrenze\n",
      "Etichetta 2: 99584 occorrenze\n",
      "Etichetta 3: 103631 occorrenze\n",
      "Etichetta 4: 101815 occorrenze\n",
      "Etichetta 5: 96885 occorrenze\n"
     ]
    }
   ],
   "source": [
    "import os\n",
    "import numpy as np\n",
    "import matplotlib.pyplot as plt\n",
    "from PIL import Image\n",
    "\n",
    "# Definizione dei percorsi alle cartelle\n",
    "rgb_folder = \"rgb_images\"\n",
    "labels_folder = \"labels\"\n",
    "\n",
    "# Verifica del numero di file nelle cartelle\n",
    "rgb_files = [f for f in os.listdir(rgb_folder) if os.path.isfile(os.path.join(rgb_folder, f))]\n",
    "label_files = [f for f in os.listdir(labels_folder) if f.endswith('.npy')]\n",
    "\n",
    "print(\"Numero di immagini nella cartella 'rgb':\", len(rgb_files))\n",
    "print(\"Numero di file .npy nella cartella 'labels':\", len(label_files))\n",
    "\n",
    "# Controllo su una immagine di esempio\n",
    "if rgb_files:\n",
    "    sample_image_path = os.path.join(rgb_folder, rgb_files[0])\n",
    "    sample_image = Image.open(sample_image_path)\n",
    "    print(\"\\nDettagli della prima immagine:\")\n",
    "    print(\"Formato:\", sample_image.format)\n",
    "    print(\"Dimensioni:\", sample_image.size)\n",
    "    print(\"Modalità:\", sample_image.mode)\n",
    "    \n",
    "    plt.figure(figsize=(5,5))\n",
    "    plt.imshow(sample_image)\n",
    "    plt.title(\"Immagine di esempio\")\n",
    "    plt.axis('off')\n",
    "    plt.show()\n",
    "else:\n",
    "    print(\"Nessuna immagine trovata nella cartella 'rgb'.\")\n",
    "\n",
    "# Controllo su un file di label di esempio\n",
    "if label_files:\n",
    "    sample_label_path = os.path.join(labels_folder, label_files[0])\n",
    "    sample_label = np.load(sample_label_path)\n",
    "    print(\"\\nDettagli del primo file di label:\")\n",
    "    print(\"Shape:\", sample_label.shape)\n",
    "    print(\"Tipo di dato:\", sample_label.dtype)\n",
    "    print(\"Valori unici:\", np.unique(sample_label))\n",
    "else:\n",
    "    print(\"Nessun file .npy trovato nella cartella 'labels'.\")\n",
    "\n",
    "# Analisi della distribuzione delle etichette in tutto il dataset\n",
    "all_labels = []\n",
    "for file in label_files:\n",
    "    label_path = os.path.join(labels_folder, file)\n",
    "    lab = np.load(label_path)\n",
    "    # Se le label sono in formato scalare o array contenenti un solo elemento, le raccogliamo direttamente\n",
    "    all_labels.extend(np.array(lab).ravel())\n",
    "\n",
    "if all_labels:\n",
    "    unique_labels, counts = np.unique(all_labels, return_counts=True)\n",
    "    print(\"\\nDistribuzione delle etichette nel dataset:\")\n",
    "    for ul, count in zip(unique_labels, counts):\n",
    "        print(f\"Etichetta {ul}: {count} occorrenze\")\n",
    "else:\n",
    "    print(\"Non è stato possibile aggregare le etichette dal dataset.\")"
   ]
  }
 ],
 "metadata": {
  "kernelspec": {
   "display_name": "Python 3 (ipykernel)",
   "language": "python",
   "name": "python3"
  },
  "language_info": {
   "codemirror_mode": {
    "name": "ipython",
    "version": 3
   },
   "file_extension": ".py",
   "mimetype": "text/x-python",
   "name": "python",
   "nbconvert_exporter": "python",
   "pygments_lexer": "ipython3",
   "version": "3.12.5"
  }
 },
 "nbformat": 4,
 "nbformat_minor": 5
}
