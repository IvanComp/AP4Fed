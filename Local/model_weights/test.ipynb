{
 "cells": [
  {
   "cell_type": "code",
   "execution_count": 22,
   "id": "12cfbff4-89ae-479b-a38a-5bd8fdfd2b4c",
   "metadata": {},
   "outputs": [
    {
     "name": "stdout",
     "output_type": "stream",
     "text": [
      "Parent directory added to sys.path: /Users/ivan/Desktop/AP4Fed/Local\n"
     ]
    },
    {
     "name": "stderr",
     "output_type": "stream",
     "text": [
      "/var/folders/9j/10v9ngt92ts7snck5_jqsz1m0000gn/T/ipykernel_48997/3659846197.py:27: FutureWarning: You are using `torch.load` with `weights_only=False` (the current default value), which uses the default pickle module implicitly. It is possible to construct malicious pickle data which will execute arbitrary code during unpickling (See https://github.com/pytorch/pytorch/blob/main/SECURITY.md#untrusted-models for more details). In a future release, the default value for `weights_only` will be flipped to `True`. This limits the functions that could be executed during unpickling. Arbitrary objects will no longer be allowed to be loaded via this mode unless they are explicitly allowlisted by the user via `torch.serialization.add_safe_globals`. We recommend you start setting `weights_only=True` for any use case where you don't have full control of the loaded file. Please open an issue on GitHub for any issues related to this experimental feature.\n",
      "  model.load_state_dict(torch.load(weights_path, map_location=torch.device('cpu')))\n"
     ]
    },
    {
     "name": "stdout",
     "output_type": "stream",
     "text": [
      "Files already downloaded and verified\n"
     ]
    },
    {
     "data": {
      "application/vnd.jupyter.widget-view+json": {
       "model_id": "ce300607080e499281e4c0714905f1b1",
       "version_major": 2,
       "version_minor": 0
      },
      "text/plain": [
       "  0%|          | 0/1000 [00:00<?, ?it/s]"
      ]
     },
     "metadata": {},
     "output_type": "display_data"
    },
    {
     "data": {
      "image/png": "[encoded data removed]",
      "text/plain": [
       "<Figure size 800x400 with 2 Axes>"
      ]
     },
     "metadata": {},
     "output_type": "display_data"
    }
   ],
   "source": [
    "import sys\n",
    "import os\n",
    "import torch\n",
    "import torch.nn.functional as F\n",
    "import numpy as np\n",
    "import matplotlib.pyplot as plt\n",
    "from lime import lime_image\n",
    "from skimage.segmentation import mark_boundaries\n",
    "import torchvision.datasets as datasets\n",
    "\n",
    "if '__file__' in globals():\n",
    "    current_dir = os.path.dirname(os.path.abspath(__file__))\n",
    "else:\n",
    "    current_dir = os.getcwd()\n",
    "\n",
    "parent_dir = os.path.abspath(os.path.join(current_dir, \"..\"))\n",
    "if parent_dir not in sys.path:\n",
    "    sys.path.insert(0, parent_dir)\n",
    "print(\"Parent directory added to sys.path:\", parent_dir)\n",
    "\n",
    "from taskA import Net as NetA\n",
    "\n",
    "CLASS_NAMES = ['airplane', 'automobile', 'bird', 'cat', 'deer',\n",
    "               'dog', 'frog', 'horse', 'ship', 'truck']\n",
    "\n",
    "weights_path = os.path.join(\"server\", \"MW_round1.pt\")\n",
    "model = NetA()\n",
    "model.load_state_dict(torch.load(weights_path, map_location=torch.device('cpu')))\n",
    "model.eval()\n",
    "\n",
    "def new_forward(x):\n",
    "    x = model.pool(F.relu(model.conv1(x)))\n",
    "    x = model.pool(F.relu(model.conv2(x)))\n",
    "    x = x.reshape(-1, 16 * 5 * 5)\n",
    "    x = F.relu(model.fc1(x))\n",
    "    x = F.relu(model.fc2(x))\n",
    "    return model.fc3(x)\n",
    "\n",
    "model.forward = new_forward\n",
    "\n",
    "# 2. Define the prediction function for LIME.\n",
    "def predict_fn(images):\n",
    "    # images come in shape (batch, H, W, C); convert to (batch, C, H, W)\n",
    "    images = np.transpose(images, (0, 3, 1, 2))\n",
    "    images_tensor = torch.from_numpy(images).float() / 255.0  # Normalize to [0,1]\n",
    "    with torch.no_grad():\n",
    "        logits = model(images_tensor)\n",
    "        probabilities = F.softmax(logits, dim=1).cpu().numpy()\n",
    "    return probabilities\n",
    "\n",
    "# 3. Load an image from the CIFAR-10 dataset.\n",
    "#    We use torchvision.datasets to download/load the dataset if necessary.\n",
    "testset = datasets.CIFAR10(root=\"./data\", train=False, download=True)\n",
    "img, label = testset[0]\n",
    "# Convert the PIL image to a NumPy array (shape: 32x32x3, uint8)\n",
    "image_rgb = np.array(img)\n",
    "\n",
    "# 4. Initialize the LIME explainer for images.\n",
    "explainer = lime_image.LimeImageExplainer()\n",
    "\n",
    "# 5. Generate the explanation.\n",
    "#    num_samples=1000 is often enough, but you can adjust it if you need a more accurate explanation.\n",
    "explanation = explainer.explain_instance(\n",
    "    image_rgb,\n",
    "    classifier_fn=predict_fn,\n",
    "    top_labels=5,\n",
    "    hide_color=0,\n",
    "    num_samples=1000\n",
    ")\n",
    "\n",
    "# Pick the top predicted label from the explanation\n",
    "top_label = explanation.top_labels[0]\n",
    "\n",
    "# 6. Get the mask and temp image with both positive and negative contributions, and do not hide the rest.\n",
    "#    Increase num_features to highlight more superpixels (e.g., 10).\n",
    "temp, mask = explanation.get_image_and_mask(\n",
    "    label=top_label,\n",
    "    positive_only=False,   # show both positive (green) and negative (red) contributions\n",
    "    num_features=10,       # highlight up to 10 superpixels\n",
    "    hide_rest=False        # do not hide the rest of the image\n",
    ")\n",
    "\n",
    "# Normalize temp to [0,1] for display\n",
    "temp_display = np.clip(temp, 0, 255) / 255.0\n",
    "\n",
    "# 7. Visualize the results side by side.\n",
    "plt.figure(figsize=(8, 4))\n",
    "\n",
    "plt.subplot(1, 2, 1)\n",
    "plt.imshow(image_rgb)\n",
    "plt.title(f\"Original Image\\nLabel: {CLASS_NAMES[label]}\")\n",
    "plt.axis(\"off\")\n",
    "\n",
    "plt.subplot(1, 2, 2)\n",
    "plt.imshow(mark_boundaries(temp_display, mask))\n",
    "plt.title(f\"LIME Explanation\\nPredicted: {CLASS_NAMES[top_label]}\")\n",
    "plt.axis(\"off\")\n",
    "plt.tight_layout()\n",
    "plt.show()"
   ]
  }
 ],
 "metadata": {
  "kernelspec": {
   "display_name": "Python 3 (ipykernel)",
   "language": "python",
   "name": "python3"
  },
  "language_info": {
   "codemirror_mode": {
    "name": "ipython",
    "version": 3
   },
   "file_extension": ".py",
   "mimetype": "text/x-python",
   "name": "python",
   "nbconvert_exporter": "python",
   "pygments_lexer": "ipython3",
   "version": "3.12.5"
  }
 },
 "nbformat": 4,
 "nbformat_minor": 5
}
